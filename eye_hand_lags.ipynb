{
 "cells": [
  {
   "cell_type": "code",
   "execution_count": 1,
   "metadata": {
    "collapsed": true
   },
   "outputs": [],
   "source": [
    "%matplotlib inline\n",
    "import numpy as np\n",
    "import pandas as pd\n",
    "import seaborn as sns\n",
    "import matplotlib.pyplot as plt\n",
    "from IPython.display import display, HTML\n",
    "import warnings\n",
    "warnings.filterwarnings('ignore')\n",
    "\n",
    "#set precision for displaying float-point values in the notebook\n",
    "pd.options.display.float_format = '{:,.3f}'.format\n",
    "\n",
    "#set figure dpi to 100 to get reasonably sized figures displayed in the notebook\n",
    "plt.rc('figure', dpi=100)\n",
    "\n",
    "#set savefig dpi to 300 to get high-quality images to insert in the paper\n",
    "plt.rc('savefig', dpi=300)\n",
    "\n",
    "#set to 'pdf' or 'eps' for vector figures or to 'png'\n",
    "plt.rc('savefig', format='png')\n",
    "\n",
    "#set font sizes for figures throughout\n",
    "plt.rc('xtick', labelsize=16)\n",
    "plt.rc('ytick', labelsize=16)\n",
    "plt.rc('axes', labelsize=20, titlesize=22)\n",
    "plt.rc('legend', fontsize=18)\n",
    "\n",
    "palette = sns.color_palette()\n",
    "scale = 1.0"
   ]
  },
  {
   "cell_type": "code",
   "execution_count": 2,
   "metadata": {
    "collapsed": true
   },
   "outputs": [],
   "source": [
    "import data_reader\n",
    "dr = data_reader.DataReader()\n",
    "\n",
    "# if Exp1 and Exp2 data need to be plotted alongside each other, read those data into separate dataframes\n",
    "exp_1, exp_2 = 'exp_1', 'exp_2'\n",
    "choices_1, dynamics_1, stim_viewing_1 = dr.get_data(path='../../data/HEM_%s/processed/' % (exp_1), stim_viewing=True)\n",
    "choices_2, dynamics_2, stim_viewing_2 = dr.get_data(path='../../data/HEM_%s/processed/' % (exp_2), stim_viewing=True)"
   ]
  },
  {
   "cell_type": "markdown",
   "metadata": {},
   "source": [
    "So the plan is\n",
    "1. Get time of change-of-mind in mouse trajectory\n",
    "  - for this, we need to check whether the current criterion for determining t_CoM is valid\n",
    "  - plot 10 random com trajectories, mark x,y of t_com\n",
    "2. Get time of change-of-mind in eye trajectory\n",
    "  - similarly, test the current criterion of detection of saccade closest in time to t_com (based on mouse trajectory)"
   ]
  }
 ],
 "metadata": {
  "kernelspec": {
   "display_name": "Python 3",
   "language": "python",
   "name": "python3"
  },
  "language_info": {
   "codemirror_mode": {
    "name": "ipython",
    "version": 3
   },
   "file_extension": ".py",
   "mimetype": "text/x-python",
   "name": "python",
   "nbconvert_exporter": "python",
   "pygments_lexer": "ipython3",
   "version": "3.6.2"
  }
 },
 "nbformat": 4,
 "nbformat_minor": 2
}
