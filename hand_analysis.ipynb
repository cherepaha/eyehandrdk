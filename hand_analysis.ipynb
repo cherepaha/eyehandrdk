{
 "cells": [
  {
   "cell_type": "code",
   "execution_count": 1,
   "metadata": {},
   "outputs": [],
   "source": [
    "%matplotlib inline\n",
    "import numpy as np\n",
    "import pandas as pd\n",
    "import seaborn as sns\n",
    "import random\n",
    "import matplotlib.pyplot as plt\n",
    "from IPython.display import display, HTML\n",
    "from scipy.stats import ttest_ind, ttest_1samp\n",
    "import warnings\n",
    "warnings.filterwarnings('ignore')\n",
    "\n",
    "#set precision for displaying float-point values in the notebook\n",
    "pd.options.display.float_format = '{:,.3f}'.format\n",
    "\n",
    "#set figure dpi to 100 to get reasonably sized figures displayed in the notebook\n",
    "plt.rc('figure', dpi=100)\n",
    "\n",
    "#set savefig dpi to 300 to get high-quality images to insert in the paper\n",
    "plt.rc('savefig', dpi=300)\n",
    "\n",
    "#set to 'pdf' or 'eps' for vector figures or to 'png'\n",
    "plt.rc('savefig', format='png')\n",
    "\n",
    "# despine plots by default\n",
    "plt.rc(\"axes.spines\", top=False, right=False)\n",
    "\n",
    "#set font sizes for figures throughout\n",
    "plt.rc('xtick', labelsize=16)\n",
    "plt.rc('ytick', labelsize=16)\n",
    "plt.rc('axes', labelsize=20, titlesize=22)\n",
    "plt.rc('legend', fontsize=16)\n",
    "\n",
    "# color palette for sequential data\n",
    "palette_sqn = 'viridis_r'\n",
    "\n",
    "# color palette for participant IDs\n",
    "palette_subj = 'magma_r'"
   ]
  },
  {
   "cell_type": "code",
   "execution_count": 9,
   "metadata": {},
   "outputs": [],
   "source": [
    "import data_reader, data_analyser, trajectory_plotter\n",
    "dr = data_reader.DataReader()\n",
    "\n",
    "index = ['subj_id', 'session_no', 'block_no', 'trial_no']\n",
    "\n",
    "exp_1, exp_2 = 'exp_1', 'exp_2'\n",
    "choices_1, dynamics_1, stim_viewing_1 = dr.get_data(path='../../data/HEM_%s/processed/' % (exp_1), stim_viewing=True)\n",
    "choices_2, dynamics_2, stim_viewing_2 = dr.get_data(path='../../data/HEM_%s/processed/' % (exp_2), stim_viewing=True)\n",
    "\n",
    "n_1 = len(choices_1)\n",
    "n_2 = len(choices_2)\n",
    "\n",
    "# for initiation time analysis, we exclude trials with IT > 1.5 sec\n",
    "choices_1 = choices_1[(choices_1.mouse_IT<1.5) & (choices_1.eye_IT<1.5)]\n",
    "choices_2 = choices_2[(choices_2.mouse_IT<1.5) & (choices_2.eye_IT<1.5)]"
   ]
  },
  {
   "cell_type": "code",
   "execution_count": 11,
   "metadata": {},
   "outputs": [
    {
     "name": "stdout",
     "output_type": "stream",
     "text": [
      "% of trials left\n",
      "0.9570263488080301\n",
      "0.9678720445062587\n"
     ]
    }
   ],
   "source": [
    "print('% of trials left')\n",
    "print(len(choices_1)/n_1)\n",
    "print(len(choices_2)/n_2)"
   ]
  }
 ],
 "metadata": {
  "kernelspec": {
   "display_name": "Python 3",
   "language": "python",
   "name": "python3"
  },
  "language_info": {
   "codemirror_mode": {
    "name": "ipython",
    "version": 3
   },
   "file_extension": ".py",
   "mimetype": "text/x-python",
   "name": "python",
   "nbconvert_exporter": "python",
   "pygments_lexer": "ipython3",
   "version": "3.6.4"
  }
 },
 "nbformat": 4,
 "nbformat_minor": 2
}
